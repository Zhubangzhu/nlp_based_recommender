{
 "cells": [
  {
   "cell_type": "code",
   "execution_count": 1,
   "metadata": {},
   "outputs": [
    {
     "name": "stdout",
     "output_type": "stream",
     "text": [
      "Requirement already satisfied: selenium in c:\\programdata\\anaconda3\\lib\\site-packages (3.141.0)\n",
      "Requirement already satisfied: urllib3 in c:\\programdata\\anaconda3\\lib\\site-packages (from selenium) (1.24.2)\n",
      "Requirement already satisfied: beautifulsoup4 in c:\\programdata\\anaconda3\\lib\\site-packages (4.8.0)\n",
      "Requirement already satisfied: soupsieve>=1.2 in c:\\programdata\\anaconda3\\lib\\site-packages (from beautifulsoup4) (1.9.3)\n"
     ]
    }
   ],
   "source": [
    "! pip install selenium\n",
    "! pip install beautifulsoup4"
   ]
  },
  {
   "cell_type": "code",
   "execution_count": 1,
   "metadata": {},
   "outputs": [],
   "source": [
    "from selenium import webdriver\n",
    "from selenium.webdriver.support.ui import WebDriverWait\n",
    "import time"
   ]
  },
  {
   "cell_type": "code",
   "execution_count": 48,
   "metadata": {},
   "outputs": [],
   "source": [
    "from bs4 import BeautifulSoup as bs\n",
    "from urllib.request import urlopen as url \n",
    "import pickle\n",
    "import json\n",
    "import time\n",
    "import multiprocessing\n",
    "import pandas as pd \n",
    "import numpy as np\n",
    "import re\n",
    "import collections\n",
    "import pickle"
   ]
  },
  {
   "cell_type": "code",
   "execution_count": 3,
   "metadata": {},
   "outputs": [],
   "source": [
    "chrome_options = webdriver.ChromeOptions()\n",
    "# chrome_options.add_argument('--headless')  # Runs Chrome in headless mode\n",
    "chrome_options.add_argument('--no-sandbox')  # Bypass OS security model\n",
    "chrome_options.add_argument('--disable-dev-shm-usage')\n",
    "chromedriver_path = \"./chromedriver\""
   ]
  },
  {
   "cell_type": "code",
   "execution_count": 4,
   "metadata": {},
   "outputs": [],
   "source": [
    "def class_extention_method(cls):\n",
    "    def decorator(func):\n",
    "        setattr(cls, func.__name__, func)\n",
    "        return func\n",
    "    return decorator"
   ]
  },
  {
   "cell_type": "code",
   "execution_count": 5,
   "metadata": {},
   "outputs": [],
   "source": [
    "@class_extention_method(webdriver.chrome.webdriver.WebDriver)\n",
    "def wait_elements_xpath(self, xpath, timeout = 5, verbose=True):\n",
    "    try:\n",
    "        return WebDriverWait(self,timeout).until(lambda d: d.find_elements_by_xpath(xpath))\n",
    "    except:\n",
    "        if verbose:\n",
    "            print(\"find xpath timeout:\",xpath)\n",
    "        \n",
    "@class_extention_method(webdriver.chrome.webdriver.WebDriver)\n",
    "def wait_element_xpath(self, xpath, timeout = 5, verbose=True):\n",
    "    try:\n",
    "        return WebDriverWait(self,timeout).until(lambda d: d.find_element_by_xpath(xpath))\n",
    "    except:\n",
    "        if verbose:\n",
    "            print(\"find xpath timeout:\",xpath)"
   ]
  },
  {
   "cell_type": "code",
   "execution_count": 6,
   "metadata": {},
   "outputs": [],
   "source": [
    "comment_info_xpath = \"//div[@id='main']\"\n",
    "show_more_button_xpath = \"//span[@class='more-button style-scope ytd-comment-renderer']\"\n",
    "number_of_comments = \"//h2[@id='count']/yt-formatted-string[@class='count-text style-scope ytd-comments-header-renderer']\"\n",
    "# comment_total_amount_xpath = \"//yt-formatted-string[@class='count-text style-scope ytd-comments-header-renderer']\""
   ]
  },
  {
   "cell_type": "code",
   "execution_count": 7,
   "metadata": {},
   "outputs": [
    {
     "data": {
      "text/html": [
       "<div>\n",
       "<style scoped>\n",
       "    .dataframe tbody tr th:only-of-type {\n",
       "        vertical-align: middle;\n",
       "    }\n",
       "\n",
       "    .dataframe tbody tr th {\n",
       "        vertical-align: top;\n",
       "    }\n",
       "\n",
       "    .dataframe thead th {\n",
       "        text-align: right;\n",
       "    }\n",
       "</style>\n",
       "<table border=\"1\" class=\"dataframe\">\n",
       "  <thead>\n",
       "    <tr style=\"text-align: right;\">\n",
       "      <th></th>\n",
       "      <th>Comedian</th>\n",
       "      <th>Title</th>\n",
       "      <th>Link of the transcript</th>\n",
       "      <th>Transcript</th>\n",
       "      <th>Video link</th>\n",
       "    </tr>\n",
       "  </thead>\n",
       "  <tbody>\n",
       "    <tr>\n",
       "      <td>19</td>\n",
       "      <td>Amy Schumer</td>\n",
       "      <td>Porn Endings</td>\n",
       "      <td>https://scrapsfromtheloft.com/2017/09/08/amy-s...</td>\n",
       "      <td>Well, I like to watch porn. Like, what girls i...</td>\n",
       "      <td>https://www.youtube.com/watch?v=EmzPp33kl7o</td>\n",
       "    </tr>\n",
       "    <tr>\n",
       "      <td>28</td>\n",
       "      <td>Arsenio Hall</td>\n",
       "      <td>Smart and Classy (2019)</td>\n",
       "      <td>https://scrapsfromtheloft.com/2019/10/30/arsen...</td>\n",
       "      <td>Everything’s changing. This has changed a lot....</td>\n",
       "      <td>https://www.youtube.com/watch?v=c_KmV-hquvc&amp;ab...</td>\n",
       "    </tr>\n",
       "    <tr>\n",
       "      <td>16</td>\n",
       "      <td>Aziz Ansari</td>\n",
       "      <td>So Sorry You Had a Baby</td>\n",
       "      <td>https://scrapsfromtheloft.com/2017/12/07/aziz-...</td>\n",
       "      <td>I, uh, turned 30 years old this year. Yes, it’...</td>\n",
       "      <td>https://www.youtube.com/watch?v=lWA-xsAVzgE</td>\n",
       "    </tr>\n",
       "    <tr>\n",
       "      <td>38</td>\n",
       "      <td>CHRIS ROCK</td>\n",
       "      <td>TAMBORINE (2018)</td>\n",
       "      <td>https://scrapsfromtheloft.com/2018/02/15/chris...</td>\n",
       "      <td>Oh, man, the older you get, the more shit you ...</td>\n",
       "      <td>https://www.youtube.com/watch?v=dUzaSm0aAKw&amp;ab...</td>\n",
       "    </tr>\n",
       "    <tr>\n",
       "      <td>37</td>\n",
       "      <td>CHRIS ROCK</td>\n",
       "      <td>TAMBORINE (2018)</td>\n",
       "      <td>https://scrapsfromtheloft.com/2018/02/15/chris...</td>\n",
       "      <td>Nah, man. But I love religion. I love watching...</td>\n",
       "      <td>https://www.youtube.com/watch?v=5bbKnj1-mR0&amp;ab...</td>\n",
       "    </tr>\n",
       "  </tbody>\n",
       "</table>\n",
       "</div>"
      ],
      "text/plain": [
       "        Comedian                    Title  \\\n",
       "19   Amy Schumer             Porn Endings   \n",
       "28  Arsenio Hall  Smart and Classy (2019)   \n",
       "16   Aziz Ansari  So Sorry You Had a Baby   \n",
       "38    CHRIS ROCK         TAMBORINE (2018)   \n",
       "37    CHRIS ROCK         TAMBORINE (2018)   \n",
       "\n",
       "                               Link of the transcript  \\\n",
       "19  https://scrapsfromtheloft.com/2017/09/08/amy-s...   \n",
       "28  https://scrapsfromtheloft.com/2019/10/30/arsen...   \n",
       "16  https://scrapsfromtheloft.com/2017/12/07/aziz-...   \n",
       "38  https://scrapsfromtheloft.com/2018/02/15/chris...   \n",
       "37  https://scrapsfromtheloft.com/2018/02/15/chris...   \n",
       "\n",
       "                                           Transcript  \\\n",
       "19  Well, I like to watch porn. Like, what girls i...   \n",
       "28  Everything’s changing. This has changed a lot....   \n",
       "16  I, uh, turned 30 years old this year. Yes, it’...   \n",
       "38  Oh, man, the older you get, the more shit you ...   \n",
       "37  Nah, man. But I love religion. I love watching...   \n",
       "\n",
       "                                           Video link  \n",
       "19        https://www.youtube.com/watch?v=EmzPp33kl7o  \n",
       "28  https://www.youtube.com/watch?v=c_KmV-hquvc&ab...  \n",
       "16        https://www.youtube.com/watch?v=lWA-xsAVzgE  \n",
       "38  https://www.youtube.com/watch?v=dUzaSm0aAKw&ab...  \n",
       "37  https://www.youtube.com/watch?v=5bbKnj1-mR0&ab...  "
      ]
     },
     "execution_count": 7,
     "metadata": {},
     "output_type": "execute_result"
    }
   ],
   "source": [
    "df = pd.read_excel('DataSource.xlsx')\n",
    "# remove the \"who\" and sort the table with \"comedian\"\n",
    "df = df.drop('Who?', axis=1)\n",
    "df = df.sort_values('Comedian')\n",
    "df.head()"
   ]
  },
  {
   "cell_type": "code",
   "execution_count": 10,
   "metadata": {},
   "outputs": [],
   "source": [
    "all_urls = df[\"Video link\"]"
   ]
  },
  {
   "cell_type": "code",
   "execution_count": 11,
   "metadata": {},
   "outputs": [
    {
     "name": "stdout",
     "output_type": "stream",
     "text": [
      "\n",
      "Url: https://www.youtube.com/watch?v=EmzPp33kl7o\n",
      "......................................................\n",
      "Url: https://www.youtube.com/watch?v=c_KmV-hquvc&ab_channel=NetflixIsAJoke\n",
      "........\n",
      "Url: https://www.youtube.com/watch?v=lWA-xsAVzgE\n",
      ".....\n",
      "Url: https://www.youtube.com/watch?v=dUzaSm0aAKw&ab_channel=NetflixIsAJoke\n",
      ".....................................................................................\n",
      "Url: https://www.youtube.com/watch?v=5bbKnj1-mR0&ab_channel=NetflixIsAJoke\n",
      ".............\n",
      "Url: https://www.youtube.com/watch?v=RIJavth0a9c\n",
      "....\n",
      "Url: https://www.youtube.com/watch?v=jxUQATD6Ezs&ab_channel=NetflixIsAJoke\n",
      ".........................................................................................................................................................................................\n",
      "Url: https://www.youtube.com/watch?v=30cYjy7_DDg&ab_channel=NetflixIsAJoke\n",
      "............\n",
      "Url: https://www.youtube.com/watch?v=nNx5tnqD9e0&ab_channel=JustForLaughs\n",
      "............................................................................................................................................\n",
      "Url: https://www.youtube.com/watch?v=zyBSwF5T7dY&ab_channel=NetflixIsAJoke\n",
      ".............\n",
      "Url: https://www.youtube.com/watch?v=-ySpPQuuGlo&ab_channel=NetflixIsAJoke\n",
      "..............\n",
      "Url: https://www.youtube.com/watch?v=vg0WFmNmOK4&ab_channel=NetflixIsAJoke\n",
      ".....................................................................................................\n",
      "Url: https://www.youtube.com/watch?v=tXHpZOYTcPQ&list=PLq76hi41DH47AUFRVDFzEUZaXjX3_FdTc&ab_channel=JoKoy\n",
      "............................................................................................................\n",
      "Url: https://www.youtube.com/watch?v=6OQYUmaIEH4&ab_channel=JimmyO.Yang\n",
      "........................................................................................................\n",
      "Url: https://www.youtube.com/watch?v=8dE4mRlBP5M\n",
      ".............\n",
      "Url: https://www.youtube.com/watch?v=w7SwjdMIteg&feature=emb_logo&ab_channel=JoKoy\n",
      "..............\n",
      "Url: https://www.youtube.com/watch?v=pPxZeigk-hw&ab_channel=NetflixIsAJoke\n",
      "..............................\n",
      "Url: https://www.youtube.com/watch?v=EPoOBF8-Tvs&ab_channel=NosIsBack\n",
      "..............\n",
      "Url: https://www.youtube.com/watch?v=HJmFmYYZAac&ab_channel=AlphaTechUnityTV\n",
      "..............\n",
      "Url: https://www.youtube.com/watch?v=HE8UAfl83UY&ab_channel=gipson123\n",
      "...................................\n",
      "Url: https://www.youtube.com/watch?v=byVefTTeKww\n",
      "...............\n",
      "Url: https://www.youtube.com/watch?v=AeN_SVoJet0&ab_channel=NetflixIsAJoke\n",
      "................\n",
      "Url: https://www.youtube.com/watch?v=7rQxFWUpc2c&ab_channel=NetflixIsAJoke\n",
      "....................\n",
      "Url: https://www.youtube.com/watch?v=rJbTI7FOLgA&ab_channel=Meda\n",
      ".................\n",
      "Url: https://www.youtube.com/watch?v=Dec_Hx9quiw\n",
      "..................\n",
      "Url: https://www.youtube.com/watch?v=O_KpLrHCAx0&ab_channel=NetflixIsAJoke\n",
      "..............\n",
      "Url: https://www.youtube.com/watch?v=ifX0oafDe3Q&ab_channel=NetflixIsAJoke\n",
      "..............\n",
      "Url: https://www.youtube.com/watch?v=BtMd6PbscwE\n",
      "..............\n",
      "Url: https://www.youtube.com/watch?v=LWFn6G2Rei0&ab_channel=SebastianManiscalco\n",
      "....................................\n",
      "Url: https://www.youtube.com/watch?v=KijAPJXjg8c&ab_channel=SebastianManiscalco\n",
      "..............\n",
      "Url: https://www.youtube.com/watch?v=lXZMlEy7fb4&ab_channel=SebastianManiscalco\n",
      "......................................................................................\n",
      "Url: https://www.youtube.com/watch?v=zomPknCUEyo&ab_channel=SebastianManiscalco\n",
      "......................................\n",
      "Url: https://www.youtube.com/watch?v=dSHv9ws78gU&ab_channel=NYACOMEDY\n",
      ".................\n",
      "Url: https://www.youtube.com/watch?v=MhCEdIqFCck&ab_channel=TrevorNoah\n",
      "..............\n",
      "Url: https://www.youtube.com/watch?v=KxoktuehP3c&ab_channel=TrevorNoah\n",
      "........................................................................................................................................................................................\n",
      "Url: https://www.youtube.com/watch?v=vi7SeBI7z9A&ab_channel=ArseRaptor\n",
      "..................................................\n",
      "Url: https://www.youtube.com/watch?v=qtswR_SW8S0&ab_channel=Netflix\n",
      "...................\n",
      "Url: https://www.youtube.com/watch?v=wE9OuVw2XI8\n",
      "...................................\n",
      "Url: https://www.youtube.com/watch?v=T6GstyTrLl0\n",
      "................\n",
      "Url: https://www.youtube.com/watch?v=A1OKxp91B2M\n",
      "..............................................................."
     ]
    }
   ],
   "source": [
    "web_list = []\n",
    "with webdriver.Chrome(chromedriver_path,options=chrome_options) as driver:    \n",
    "    for url in all_urls:\n",
    "        all_comments_info = []        \n",
    "        prev_offest = -1\n",
    "        offset = 0\n",
    "        \n",
    "        print(f\"\\nUrl: {url}\")\n",
    "        driver.get(url)\n",
    "        # Scroll until the number of comments shows up\n",
    "        while driver.wait_elements_xpath(number_of_comments, timeout=1, verbose=False) == None:\n",
    "            driver.execute_script(\"scrollBy(0, 50)\")\n",
    "            \n",
    "        # Scarpe comments until all the comments are collected\n",
    "        while offset != prev_offest:\n",
    "            prev_offest = offset\n",
    "            driver.execute_script(\"scrollBy(0, 1000)\")\n",
    "            time.sleep(2)\n",
    "            offset = driver.execute_script(\"return window.pageYOffset;\");\n",
    "            all_comments_info = driver.wait_elements_xpath(comment_info_xpath)\n",
    "            print(\"\", end=\".\")\n",
    "        # Get whole html for us to find sth later\n",
    "        html = driver.page_source    \n",
    "        whole_page = bs(html,\"html.parser\")\n",
    "        web_list.append(whole_page)"
   ]
  },
  {
   "cell_type": "code",
   "execution_count": 12,
   "metadata": {},
   "outputs": [
    {
     "data": {
      "text/plain": [
       "40"
      ]
     },
     "execution_count": 12,
     "metadata": {},
     "output_type": "execute_result"
    }
   ],
   "source": [
    "len(web_list)"
   ]
  },
  {
   "cell_type": "code",
   "execution_count": 13,
   "metadata": {},
   "outputs": [],
   "source": [
    "def html_to_list(web):\n",
    "    whole_page = web\n",
    "    comments = whole_page.find_all('div', {'id':'main', 'class': 'style-scope ytd-comment-renderer'})\n",
    "    comments_names_list = []\n",
    "    comments_contents_list = []\n",
    "    comments_thumbsup_list = []\n",
    "\n",
    "    for comment in comments:\n",
    "        # reviewer's name\n",
    "        name = comment.find('span', {'class': 'style-scope ytd-comment-renderer'}).getText()\n",
    "        comments_names_list.append(name.strip('\\n '))\n",
    "        # reviewer's comment\n",
    "        content = comment.find('yt-formatted-string', {'id': 'content-text'}).getText()\n",
    "        comments_contents_list.append(content)\n",
    "        # reviewer's thumbsup amount\n",
    "        thumbsup = comment.find('span', {'id':'vote-count-middle', 'class':'style-scope ytd-comment-action-buttons-renderer'}).getText()\n",
    "        new_thumbsup = thumbsup.strip('\\n ').replace('K','*1000')\n",
    "        comments_thumbsup_list.append(int(eval(new_thumbsup)))\n",
    "\n",
    "    # list to df\n",
    "    row = [comments_thumbsup_list, comments_names_list, comments_contents_list]\n",
    "    df = pd.DataFrame(row).transpose()\n",
    "    df.columns = ['Thumbsup', 'Name','Comment']\n",
    "    return df"
   ]
  },
  {
   "cell_type": "code",
   "execution_count": 14,
   "metadata": {},
   "outputs": [],
   "source": [
    "def get_all_user_names(web_list):\n",
    "    name = {}\n",
    "    for web in web_list:\n",
    "        df = html_to_list(web)\n",
    "        for n in df.Name:\n",
    "            if n in name:\n",
    "                name[n] += 1\n",
    "            else:\n",
    "                name[n] = 1\n",
    "    return name"
   ]
  },
  {
   "cell_type": "code",
   "execution_count": 47,
   "metadata": {},
   "outputs": [],
   "source": [
    "names = get_all_user_names(web_list)"
   ]
  },
  {
   "cell_type": "code",
   "execution_count": 52,
   "metadata": {},
   "outputs": [
    {
     "data": {
      "text/html": [
       "<div>\n",
       "<style scoped>\n",
       "    .dataframe tbody tr th:only-of-type {\n",
       "        vertical-align: middle;\n",
       "    }\n",
       "\n",
       "    .dataframe tbody tr th {\n",
       "        vertical-align: top;\n",
       "    }\n",
       "\n",
       "    .dataframe thead th {\n",
       "        text-align: right;\n",
       "    }\n",
       "</style>\n",
       "<table border=\"1\" class=\"dataframe\">\n",
       "  <thead>\n",
       "    <tr style=\"text-align: right;\">\n",
       "      <th></th>\n",
       "      <th>number</th>\n",
       "    </tr>\n",
       "  </thead>\n",
       "  <tbody>\n",
       "    <tr>\n",
       "      <td>whitepride1004</td>\n",
       "      <td>31</td>\n",
       "    </tr>\n",
       "    <tr>\n",
       "      <td>rudeboymon</td>\n",
       "      <td>7</td>\n",
       "    </tr>\n",
       "    <tr>\n",
       "      <td>karissa and sweettweet</td>\n",
       "      <td>6</td>\n",
       "    </tr>\n",
       "    <tr>\n",
       "      <td>Audrey New</td>\n",
       "      <td>6</td>\n",
       "    </tr>\n",
       "    <tr>\n",
       "      <td>M A</td>\n",
       "      <td>5</td>\n",
       "    </tr>\n",
       "    <tr>\n",
       "      <td>...</td>\n",
       "      <td>...</td>\n",
       "    </tr>\n",
       "    <tr>\n",
       "      <td>R. A.</td>\n",
       "      <td>3</td>\n",
       "    </tr>\n",
       "    <tr>\n",
       "      <td>Anna markandan</td>\n",
       "      <td>3</td>\n",
       "    </tr>\n",
       "    <tr>\n",
       "      <td>Jeannie Russo</td>\n",
       "      <td>3</td>\n",
       "    </tr>\n",
       "    <tr>\n",
       "      <td>Xfirex Xbites</td>\n",
       "      <td>3</td>\n",
       "    </tr>\n",
       "    <tr>\n",
       "      <td>sasha mocni</td>\n",
       "      <td>3</td>\n",
       "    </tr>\n",
       "  </tbody>\n",
       "</table>\n",
       "<p>100 rows × 1 columns</p>\n",
       "</div>"
      ],
      "text/plain": [
       "                        number\n",
       "whitepride1004              31\n",
       "rudeboymon                   7\n",
       "karissa and sweettweet       6\n",
       "Audrey New                   6\n",
       "M A                          5\n",
       "...                        ...\n",
       "R. A.                        3\n",
       "Anna markandan               3\n",
       "Jeannie Russo                3\n",
       "Xfirex Xbites                3\n",
       "sasha mocni                  3\n",
       "\n",
       "[100 rows x 1 columns]"
      ]
     },
     "execution_count": 52,
     "metadata": {},
     "output_type": "execute_result"
    }
   ],
   "source": [
    "names_df = pd.DataFrame(names.values(), index=names.keys(), columns=['number'])\n",
    "names_df.sort_values(by='number', ascending=False).head(100)"
   ]
  },
  {
   "cell_type": "code",
   "execution_count": 54,
   "metadata": {},
   "outputs": [],
   "source": [
    "names_df.to_pickle('./pickles/web_list_first_40.plk')"
   ]
  },
  {
   "cell_type": "code",
   "execution_count": null,
   "metadata": {},
   "outputs": [],
   "source": []
  }
 ],
 "metadata": {
  "kernelspec": {
   "display_name": "Python 3",
   "language": "python",
   "name": "python3"
  },
  "language_info": {
   "codemirror_mode": {
    "name": "ipython",
    "version": 3
   },
   "file_extension": ".py",
   "mimetype": "text/x-python",
   "name": "python",
   "nbconvert_exporter": "python",
   "pygments_lexer": "ipython3",
   "version": "3.7.4"
  }
 },
 "nbformat": 4,
 "nbformat_minor": 2
}
