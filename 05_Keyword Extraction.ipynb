{
 "cells": [
  {
   "cell_type": "code",
   "execution_count": 1,
   "metadata": {},
   "outputs": [],
   "source": [
    "# Basic functionalities\n",
    "import numpy as np\n",
    "import pandas as pd\n",
    "import matplotlib.pyplot as plt"
   ]
  },
  {
   "cell_type": "code",
   "execution_count": 2,
   "metadata": {},
   "outputs": [],
   "source": [
    "# Keyword Extraction\n",
    "from summa.summarizer import summarize\n",
    "from summa import keywords"
   ]
  },
  {
   "cell_type": "markdown",
   "metadata": {},
   "source": [
    "# Keyword Extraction"
   ]
  },
  {
   "cell_type": "code",
   "execution_count": 3,
   "metadata": {},
   "outputs": [],
   "source": [
    "# Read the corpus\n",
    "clean_corpus = pd.read_pickle('./pickles/clean_corpus.pkl')\n",
    "corpus_nouns = pd.read_pickle('./pickles/corpus_nouns.pkl')\n",
    "corpus_na = pd.read_pickle('./pickles/corpus_na.pkl')"
   ]
  },
  {
   "cell_type": "code",
   "execution_count": 7,
   "metadata": {},
   "outputs": [
    {
     "name": "stdout",
     "output_type": "stream",
     "text": [
      "fucking\n",
      "say fuck\n",
      "fellas\n",
      "motherfucker\n",
      "motherfuckers\n",
      "shes\n",
      "sense women\n",
      "cos\n",
      "happy yes\n",
      "gonna\n",
      "dont\n",
      "saying\n",
      "damn\n",
      "like\n",
      "lord\n",
      "come\n",
      "comes\n",
      "coming\n"
     ]
    }
   ],
   "source": [
    "print(keywords.keywords(clean_corpus.Transcript[4]))"
   ]
  },
  {
   "cell_type": "code",
   "execution_count": 48,
   "metadata": {},
   "outputs": [
    {
     "name": "stdout",
     "output_type": "stream",
     "text": [
      "im\n",
      "guys\n",
      "girls\n",
      "reference time\n",
      "thats girl\n",
      "cause\n",
      "right hes guy\n",
      "end\n",
      "date\n",
      "dates\n",
      "aunt\n",
      "oh god references\n",
      "person\n",
      "shock\n",
      "books\n",
      "book\n",
      "peeking\n"
     ]
    }
   ],
   "source": [
    "print(keywords.keywords(corpus_nouns.Transcript[0]))"
   ]
  },
  {
   "cell_type": "code",
   "execution_count": 51,
   "metadata": {
    "collapsed": true
   },
   "outputs": [
    {
     "name": "stdout",
     "output_type": "stream",
     "text": [
      "\n",
      "im\n",
      "thats right girl\n",
      "guys\n",
      "porn girls\n",
      "reference time\n",
      "hes guy\n",
      "months\n",
      "month\n",
      "cause\n",
      "worst\n",
      "aunt\n",
      "oh god references\n",
      "asian\n",
      "person\n",
      "date\n",
      "dates\n",
      "end\n",
      "good\n",
      "people\n",
      "chooseyourown\n",
      "youre\n",
      "peeking\n",
      "head\n",
      "books\n",
      "book\n",
      "\n",
      "woman phone shes youre\n",
      "motherfucker\n",
      "motherfuckers\n",
      "womans\n",
      "shit\n",
      "oh thats\n",
      "new\n",
      "night\n",
      "recognition\n",
      "important\n",
      "thumb\n",
      "crazy\n",
      "passcode\n",
      "hey\n",
      "flashlight\n",
      "mall\n",
      "months\n",
      "\n",
      "baby\n",
      "babies\n",
      "kid\n",
      "youre\n",
      "things\n",
      "thing\n",
      "ready kids\n",
      "im\n",
      "chain\n",
      "friends\n",
      "friend\n",
      "kind\n",
      "shit\n",
      "lindsay\n",
      "theyre\n",
      "sorry\n",
      "little\n",
      "time\n",
      "signing mailing\n",
      "\n",
      "god\n",
      "thats\n",
      "mistakes\n",
      "mistake\n",
      "housewife\n",
      "housewifes\n",
      "husband house\n",
      "theyll\n",
      "man\n",
      "ok\n",
      "husbands youre\n",
      "fucking\n",
      "fuck\n",
      "mothers\n",
      "religion\n",
      "good\n",
      "picture mother\n",
      "daddy\n",
      "shit thing\n",
      "big\n",
      "people woman\n",
      "motherfuckers\n",
      "motherfucker\n",
      "gon\n",
      "little\n",
      "kids\n",
      "quicksand\n",
      "pictures\n",
      "perfect\n",
      "\n",
      "fuck\n",
      "fucking\n",
      "woman\n",
      "womans\n",
      "motherfuckers\n",
      "motherfucker shit\n",
      "shes fellas\n",
      "happy\n",
      "thing\n",
      "times\n",
      "time\n",
      "sense\n",
      "impossible cos\n",
      "matter\n",
      "dick\n"
     ]
    }
   ],
   "source": [
    "for i in range(5):\n",
    "    print(\"\")\n",
    "    print(keywords.keywords(corpus_na.Transcript[i]))"
   ]
  },
  {
   "cell_type": "code",
   "execution_count": null,
   "metadata": {},
   "outputs": [],
   "source": []
  }
 ],
 "metadata": {
  "kernelspec": {
   "display_name": "Python 3",
   "language": "python",
   "name": "python3"
  },
  "language_info": {
   "codemirror_mode": {
    "name": "ipython",
    "version": 3
   },
   "file_extension": ".py",
   "mimetype": "text/x-python",
   "name": "python",
   "nbconvert_exporter": "python",
   "pygments_lexer": "ipython3",
   "version": "3.7.4"
  }
 },
 "nbformat": 4,
 "nbformat_minor": 2
}
